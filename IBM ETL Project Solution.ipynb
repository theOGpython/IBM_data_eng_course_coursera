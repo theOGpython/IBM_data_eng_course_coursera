{
    "cells": [
        {
            "cell_type": "markdown",
            "metadata": {},
            "source": "<center>\n    <img src=\"https://gitlab.com/ibm/skills-network/courses/placeholder101/-/raw/master/labs/module%201/images/IDSNlogo.png\" width=\"300\" alt=\"cognitiveclass.ai logo\"  />\n</center>\n"
        },
        {
            "cell_type": "markdown",
            "metadata": {},
            "source": "# Peer Review Assignment - Data Engineer - ETL\n"
        },
        {
            "cell_type": "markdown",
            "metadata": {},
            "source": "Estimated time needed: **20** minutes\n"
        },
        {
            "cell_type": "markdown",
            "metadata": {},
            "source": "## Objectives\n\nIn this final part you will:\n\n*   Run the ETL process\n*   Extract bank and market cap data from the JSON file `bank_market_cap.json`\n*   Transform the market cap currency using the exchange rate data\n*   Load the transformed data into a seperate CSV\n"
        },
        {
            "cell_type": "markdown",
            "metadata": {},
            "source": "For this lab, we are going to be using Python and several Python libraries. Some of these libraries might be installed in your lab environment or in SN Labs. Others may need to be installed by you. The cells below will install these libraries when executed.\n"
        },
        {
            "cell_type": "code",
            "execution_count": 86,
            "metadata": {},
            "outputs": [],
            "source": "#!pip install glob\n#!pip install pandas\n#!pip install requests\n#!pip install datetime"
        },
        {
            "cell_type": "markdown",
            "metadata": {},
            "source": "## Imports\n\nImport any additional libraries you may need here.\n"
        },
        {
            "cell_type": "code",
            "execution_count": 87,
            "metadata": {},
            "outputs": [],
            "source": "import glob\nimport pandas as pd\nfrom datetime import datetime"
        },
        {
            "cell_type": "markdown",
            "metadata": {},
            "source": "As the exchange rate fluctuates, we will download the same dataset to make marking simpler. This will be in the same format as the dataset you used in the last section\n"
        },
        {
            "cell_type": "code",
            "execution_count": 88,
            "metadata": {},
            "outputs": [
                {
                    "name": "stdout",
                    "output_type": "stream",
                    "text": "--2022-01-27 00:51:25--  https://cf-courses-data.s3.us.cloud-object-storage.appdomain.cloud/IBMDeveloperSkillsNetwork-PY0221EN-SkillsNetwork/labs/module%206/Lab%20-%20Extract%20Transform%20Load/data/bank_market_cap_1.json\nResolving cf-courses-data.s3.us.cloud-object-storage.appdomain.cloud (cf-courses-data.s3.us.cloud-object-storage.appdomain.cloud)... 169.63.118.104\nConnecting to cf-courses-data.s3.us.cloud-object-storage.appdomain.cloud (cf-courses-data.s3.us.cloud-object-storage.appdomain.cloud)|169.63.118.104|:443... connected.\nHTTP request sent, awaiting response... 200 OK\nLength: 2815 (2.7K) [application/json]\nSaving to: \u2018bank_market_cap_1.json.3\u2019\n\nbank_market_cap_1.j 100%[===================>]   2.75K  --.-KB/s    in 0s      \n\n2022-01-27 00:51:26 (90.1 MB/s) - \u2018bank_market_cap_1.json.3\u2019 saved [2815/2815]\n\n--2022-01-27 00:51:26--  https://cf-courses-data.s3.us.cloud-object-storage.appdomain.cloud/IBMDeveloperSkillsNetwork-PY0221EN-SkillsNetwork/labs/module%206/Lab%20-%20Extract%20Transform%20Load/data/bank_market_cap_2.json\nResolving cf-courses-data.s3.us.cloud-object-storage.appdomain.cloud (cf-courses-data.s3.us.cloud-object-storage.appdomain.cloud)... 169.63.118.104\nConnecting to cf-courses-data.s3.us.cloud-object-storage.appdomain.cloud (cf-courses-data.s3.us.cloud-object-storage.appdomain.cloud)|169.63.118.104|:443... connected.\nHTTP request sent, awaiting response... 200 OK\nLength: 1429 (1.4K) [application/json]\nSaving to: \u2018bank_market_cap_2.json.3\u2019\n\nbank_market_cap_2.j 100%[===================>]   1.40K  --.-KB/s    in 0s      \n\n2022-01-27 00:51:27 (41.5 MB/s) - \u2018bank_market_cap_2.json.3\u2019 saved [1429/1429]\n\n--2022-01-27 00:51:28--  https://cf-courses-data.s3.us.cloud-object-storage.appdomain.cloud/IBMDeveloperSkillsNetwork-PY0221EN-SkillsNetwork/labs/module%206/Final%20Assignment/exchange_rates.csv\nResolving cf-courses-data.s3.us.cloud-object-storage.appdomain.cloud (cf-courses-data.s3.us.cloud-object-storage.appdomain.cloud)... 169.63.118.104\nConnecting to cf-courses-data.s3.us.cloud-object-storage.appdomain.cloud (cf-courses-data.s3.us.cloud-object-storage.appdomain.cloud)|169.63.118.104|:443... connected.\nHTTP request sent, awaiting response... 200 OK\nLength: 590 [text/csv]\nSaving to: \u2018exchange_rates.csv.3\u2019\n\nexchange_rates.csv. 100%[===================>]     590  --.-KB/s    in 0s      \n\n2022-01-27 00:51:28 (19.4 MB/s) - \u2018exchange_rates.csv.3\u2019 saved [590/590]\n\n"
                }
            ],
            "source": "!wget https://cf-courses-data.s3.us.cloud-object-storage.appdomain.cloud/IBMDeveloperSkillsNetwork-PY0221EN-SkillsNetwork/labs/module%206/Lab%20-%20Extract%20Transform%20Load/data/bank_market_cap_1.json\n!wget https://cf-courses-data.s3.us.cloud-object-storage.appdomain.cloud/IBMDeveloperSkillsNetwork-PY0221EN-SkillsNetwork/labs/module%206/Lab%20-%20Extract%20Transform%20Load/data/bank_market_cap_2.json\n!wget https://cf-courses-data.s3.us.cloud-object-storage.appdomain.cloud/IBMDeveloperSkillsNetwork-PY0221EN-SkillsNetwork/labs/module%206/Final%20Assignment/exchange_rates.csv"
        },
        {
            "cell_type": "markdown",
            "metadata": {},
            "source": "## Extract\n"
        },
        {
            "cell_type": "markdown",
            "metadata": {},
            "source": "### JSON Extract Function\n\nThis function will extract JSON files.\n"
        },
        {
            "cell_type": "code",
            "execution_count": 89,
            "metadata": {},
            "outputs": [],
            "source": "def extract_from_json(file_to_process):\n    dataframe = pd.read_json(file_to_process)\n    return dataframe"
        },
        {
            "cell_type": "markdown",
            "metadata": {},
            "source": "## Extract Function\n\nDefine the extract function that finds JSON file `bank_market_cap_1.json` and calls the function created above to extract data from them. Store the data in a `pandas` dataframe. Use the following list for the columns.\n"
        },
        {
            "cell_type": "code",
            "execution_count": 90,
            "metadata": {},
            "outputs": [],
            "source": "columns=['Name','Market Cap (US$ Billion)']"
        },
        {
            "cell_type": "code",
            "execution_count": 107,
            "metadata": {},
            "outputs": [],
            "source": "def extract():\n    # Write your code here\n    extracted_data = pd.DataFrame(columns=columns)\n    \n    #process all json files\n    for jsonfile in glob.glob(\"bank_market_cap_1.json\"):\n        extracted_data = extracted_data.append(extract_from_json(jsonfile), ignore_index=True)\n    \n    return extracted_data"
        },
        {
            "cell_type": "markdown",
            "metadata": {},
            "source": "<b>Question 1</b> Load the file <code>exchange_rates.csv</code> as a dataframe and find the exchange rate for British pounds with the symbol <code>GBP</code>, store it in the variable  <code>exchange_rate</code>, you will be asked for the number. Hint: set the parameter  <code>index_col</code> to 0.\n"
        },
        {
            "cell_type": "code",
            "execution_count": 108,
            "metadata": {},
            "outputs": [
                {
                    "data": {
                        "text/plain": "0.7323984208000001"
                    },
                    "execution_count": 108,
                    "metadata": {},
                    "output_type": "execute_result"
                }
            ],
            "source": "# Write your code here\nexchange_rates = pd.read_csv(\"exchange_rates.csv\", index_col = 0)\n\nexchange_rate = exchange_rates.loc[\"GBP\"][\"Rates\"]\nexchange_rate"
        },
        {
            "cell_type": "markdown",
            "metadata": {},
            "source": "## Transform\n\nUsing <code>exchange_rate</code> and the `exchange_rates.csv` file find the exchange rate of USD to GBP. Write a transform function that\n\n1.  Changes the `Market Cap (US$ Billion)` column from USD to GBP\n2.  Rounds the Market Cap (US$ Billion)\\` column to 3 decimal places\n3.  Rename `Market Cap (US$ Billion)` to `Market Cap (GBP$ Billion)`\n"
        },
        {
            "cell_type": "code",
            "execution_count": 109,
            "metadata": {},
            "outputs": [],
            "source": "def transform(data):\n    # Write your code here\n    data['Market Cap (US$ Billion)'] = round(data['Market Cap (US$ Billion)'] * exchange_rate,3)\n    data = data.rename(columns={'Market Cap (US$ Billion)': 'Market Cap (GBP\u00a3 Billion)'}, inplace=True)\n    return data"
        },
        {
            "cell_type": "markdown",
            "metadata": {},
            "source": "## Load\n\nCreate a function that takes a dataframe and load it to a csv named `bank_market_cap_gbp.csv`. Make sure to set `index` to `False`.\n"
        },
        {
            "cell_type": "code",
            "execution_count": 110,
            "metadata": {},
            "outputs": [],
            "source": "def load(data_to_load):\n    # Write your code here\n    data_to_load.to_csv(\"bank_market_cap_gbp.csv\", index=False)"
        },
        {
            "cell_type": "markdown",
            "metadata": {},
            "source": "## Logging Function\n"
        },
        {
            "cell_type": "markdown",
            "metadata": {},
            "source": "Write the logging function <code>log</code> to log your data:\n"
        },
        {
            "cell_type": "code",
            "execution_count": 111,
            "metadata": {},
            "outputs": [],
            "source": "logfile = \"logfile.txt\"            # all event logs will be stored in this file\n\ndef log(message):\n    # Write your code here\n    timestamp_format = '%Y-%h-%d-%H:%M:%S' # Year-Monthname-Day-Hour-Minute-Second\n    now = datetime.now() # get current timestamp\n    timestamp = now.strftime(timestamp_format)\n    with open(\"logfile.txt\",\"a\") as f:\n        f.write(timestamp + ',' + message + '\\n')"
        },
        {
            "cell_type": "markdown",
            "metadata": {},
            "source": "## Running the ETL Process\n"
        },
        {
            "cell_type": "markdown",
            "metadata": {},
            "source": "Log the process accordingly using the following <code>\"ETL Job Started\"</code> and <code>\"Extract phase Started\"</code>\n"
        },
        {
            "cell_type": "code",
            "execution_count": 112,
            "metadata": {},
            "outputs": [],
            "source": "# Write your code here\nlog(\"ETL Job Started\")\nlog(\"Extract phase Started\")"
        },
        {
            "cell_type": "markdown",
            "metadata": {},
            "source": "### Extract\n"
        },
        {
            "cell_type": "markdown",
            "metadata": {},
            "source": "<code>Question 2</code> Use the function <code>extract</code>, and print the first 5 rows, take a screen shot:\n"
        },
        {
            "cell_type": "code",
            "execution_count": 113,
            "metadata": {},
            "outputs": [
                {
                    "data": {
                        "text/html": "<div>\n<style scoped>\n    .dataframe tbody tr th:only-of-type {\n        vertical-align: middle;\n    }\n\n    .dataframe tbody tr th {\n        vertical-align: top;\n    }\n\n    .dataframe thead th {\n        text-align: right;\n    }\n</style>\n<table border=\"1\" class=\"dataframe\">\n  <thead>\n    <tr style=\"text-align: right;\">\n      <th></th>\n      <th>Name</th>\n      <th>Market Cap (US$ Billion)</th>\n    </tr>\n  </thead>\n  <tbody>\n    <tr>\n      <th>0</th>\n      <td>JPMorgan Chase</td>\n      <td>390.934</td>\n    </tr>\n    <tr>\n      <th>1</th>\n      <td>Industrial and Commercial Bank of China</td>\n      <td>345.214</td>\n    </tr>\n    <tr>\n      <th>2</th>\n      <td>Bank of America</td>\n      <td>325.331</td>\n    </tr>\n    <tr>\n      <th>3</th>\n      <td>Wells Fargo</td>\n      <td>308.013</td>\n    </tr>\n    <tr>\n      <th>4</th>\n      <td>China Construction Bank</td>\n      <td>257.399</td>\n    </tr>\n  </tbody>\n</table>\n</div>",
                        "text/plain": "                                      Name  Market Cap (US$ Billion)\n0                           JPMorgan Chase                   390.934\n1  Industrial and Commercial Bank of China                   345.214\n2                          Bank of America                   325.331\n3                              Wells Fargo                   308.013\n4                  China Construction Bank                   257.399"
                    },
                    "execution_count": 113,
                    "metadata": {},
                    "output_type": "execute_result"
                }
            ],
            "source": "# Call the function here\nextracted_data = extract()\n# Print the rows here\nextracted_data.head()"
        },
        {
            "cell_type": "markdown",
            "metadata": {},
            "source": "Log the data as <code>\"Extract phase Ended\"</code>\n"
        },
        {
            "cell_type": "code",
            "execution_count": 114,
            "metadata": {},
            "outputs": [],
            "source": "# Write your code here\nlog(\"Extract phase Ended\")"
        },
        {
            "cell_type": "markdown",
            "metadata": {},
            "source": "### Transform\n"
        },
        {
            "cell_type": "markdown",
            "metadata": {},
            "source": "Log the following  <code>\"Transform phase Started\"</code>\n"
        },
        {
            "cell_type": "code",
            "execution_count": 115,
            "metadata": {},
            "outputs": [],
            "source": "# Write your code here\nlog(\"Transform phase Started\")"
        },
        {
            "cell_type": "markdown",
            "metadata": {},
            "source": "<code>Question 3</code> Use the function <code>transform</code> and print the first 5 rows of the output, take a screen shot:\n"
        },
        {
            "cell_type": "code",
            "execution_count": 116,
            "metadata": {},
            "outputs": [
                {
                    "data": {
                        "text/html": "<div>\n<style scoped>\n    .dataframe tbody tr th:only-of-type {\n        vertical-align: middle;\n    }\n\n    .dataframe tbody tr th {\n        vertical-align: top;\n    }\n\n    .dataframe thead th {\n        text-align: right;\n    }\n</style>\n<table border=\"1\" class=\"dataframe\">\n  <thead>\n    <tr style=\"text-align: right;\">\n      <th></th>\n      <th>Name</th>\n      <th>Market Cap (GBP\u00a3 Billion)</th>\n    </tr>\n  </thead>\n  <tbody>\n    <tr>\n      <th>0</th>\n      <td>JPMorgan Chase</td>\n      <td>286.319</td>\n    </tr>\n    <tr>\n      <th>1</th>\n      <td>Industrial and Commercial Bank of China</td>\n      <td>252.834</td>\n    </tr>\n    <tr>\n      <th>2</th>\n      <td>Bank of America</td>\n      <td>238.272</td>\n    </tr>\n    <tr>\n      <th>3</th>\n      <td>Wells Fargo</td>\n      <td>225.588</td>\n    </tr>\n    <tr>\n      <th>4</th>\n      <td>China Construction Bank</td>\n      <td>188.519</td>\n    </tr>\n  </tbody>\n</table>\n</div>",
                        "text/plain": "                                      Name  Market Cap (GBP\u00a3 Billion)\n0                           JPMorgan Chase                    286.319\n1  Industrial and Commercial Bank of China                    252.834\n2                          Bank of America                    238.272\n3                              Wells Fargo                    225.588\n4                  China Construction Bank                    188.519"
                    },
                    "execution_count": 116,
                    "metadata": {},
                    "output_type": "execute_result"
                }
            ],
            "source": "# Call the function here\ntransform(extracted_data)\n# Print the first 5 rows here\nextracted_data.head()"
        },
        {
            "cell_type": "markdown",
            "metadata": {},
            "source": "Log your data <code>\"Transform phase Ended\"</code>\n"
        },
        {
            "cell_type": "code",
            "execution_count": 117,
            "metadata": {},
            "outputs": [],
            "source": "# Write your code here\nlog(\"Transform phase Ended\")"
        },
        {
            "cell_type": "markdown",
            "metadata": {},
            "source": "### Load\n"
        },
        {
            "cell_type": "markdown",
            "metadata": {},
            "source": "Log the following `\"Load phase Started\"`.\n"
        },
        {
            "cell_type": "code",
            "execution_count": 118,
            "metadata": {},
            "outputs": [],
            "source": "# Write your code here\nlog(\"Load phase Started\")"
        },
        {
            "cell_type": "markdown",
            "metadata": {},
            "source": "Call the load function\n"
        },
        {
            "cell_type": "code",
            "execution_count": 119,
            "metadata": {},
            "outputs": [],
            "source": "# Write your code here\nload(extracted_data)"
        },
        {
            "cell_type": "markdown",
            "metadata": {},
            "source": "Log the following `\"Load phase Ended\"`.\n"
        },
        {
            "cell_type": "code",
            "execution_count": 120,
            "metadata": {},
            "outputs": [],
            "source": "# Write your code here\nlog(\"Load phase Ended\")\nlog(\"ETL Job Ended\")"
        },
        {
            "cell_type": "markdown",
            "metadata": {},
            "source": "## Authors\n"
        },
        {
            "cell_type": "markdown",
            "metadata": {},
            "source": "Ramesh Sannareddy, Joseph Santrcangelo and Azim Hirjani\n"
        },
        {
            "cell_type": "markdown",
            "metadata": {},
            "source": "### Other Contributors\n"
        },
        {
            "cell_type": "markdown",
            "metadata": {},
            "source": "Rav Ahuja\n"
        },
        {
            "cell_type": "markdown",
            "metadata": {},
            "source": "## Change Log\n"
        },
        {
            "cell_type": "markdown",
            "metadata": {},
            "source": "| Date (YYYY-MM-DD) | Version | Changed By        | Change Description                 |\n| ----------------- | ------- | ----------------- | ---------------------------------- |\n| 2020-11-25        | 0.1     | Ramesh Sannareddy | Created initial version of the lab |\n"
        },
        {
            "cell_type": "markdown",
            "metadata": {},
            "source": "Copyright \u00a9 2020 IBM Corporation. This notebook and its source code are released under the terms of the [MIT License](https://cognitiveclass.ai/mit-license?utm_medium=Exinfluencer&utm_source=Exinfluencer&utm_content=000026UJ&utm_term=10006555&utm_id=NA-SkillsNetwork-Channel-SkillsNetworkCoursesIBMDeveloperSkillsNetworkPY0221ENSkillsNetwork23455645-2021-01-01&cm_mmc=Email_Newsletter-\\_-Developer_Ed%2BTech-\\_-WW_WW-\\_-SkillsNetwork-Courses-IBM-DA0321EN-SkillsNetwork-21426264&cm_mmca1=000026UJ&cm_mmca2=10006555&cm_mmca3=M12345678&cvosrc=email.Newsletter.M12345678&cvo_campaign=000026UJ).\n"
        }
    ],
    "metadata": {
        "kernelspec": {
            "display_name": "Python 3.8",
            "language": "python",
            "name": "python3"
        },
        "language_info": {
            "codemirror_mode": {
                "name": "ipython",
                "version": 3
            },
            "file_extension": ".py",
            "mimetype": "text/x-python",
            "name": "python",
            "nbconvert_exporter": "python",
            "pygments_lexer": "ipython3",
            "version": "3.8.12"
        }
    },
    "nbformat": 4,
    "nbformat_minor": 4
}