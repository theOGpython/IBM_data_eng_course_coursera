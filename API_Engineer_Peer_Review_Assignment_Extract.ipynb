{
 "cells": [
  {
   "cell_type": "markdown",
   "metadata": {},
   "source": [
    "<p style=\"text-align:center\">\n",
    "    <a href=\"https://skills.network/?utm_medium=Exinfluencer&utm_source=Exinfluencer&utm_content=000026UJ&utm_term=10006555&utm_id=NA-SkillsNetwork-Channel-SkillsNetworkCoursesIBMDeveloperSkillsNetworkPY0221ENSkillsNetwork23455645-2022-01-01\" target=\"_blank\">\n",
    "    <img src=\"https://cf-courses-data.s3.us.cloud-object-storage.appdomain.cloud/assets/logos/SN_web_lightmode.png\" width=\"200\" alt=\"Skills Network Logo\"  />\n",
    "    </a>\n",
    "</p>\n"
   ]
  },
  {
   "cell_type": "markdown",
   "metadata": {},
   "source": [
    "# Peer Review Assignment - Data Engineer - Extract API Data\n"
   ]
  },
  {
   "cell_type": "markdown",
   "metadata": {},
   "source": [
    "Estimated time needed: **20** minutes\n"
   ]
  },
  {
   "cell_type": "markdown",
   "metadata": {},
   "source": [
    "## Objectives\n",
    "\n",
    "In this part you will:\n",
    "\n",
    "*   Collect exchange rate data using an API\n",
    "*   Store the data as a CSV\n"
   ]
  },
  {
   "cell_type": "markdown",
   "metadata": {},
   "source": [
    "For this lab, we are going to be using Python and several Python libraries. Some of these libraries might be installed in your lab environment or in SN Labs. Others may need to be installed by you. The cells below will install these libraries when executed.\n"
   ]
  },
  {
   "cell_type": "code",
   "execution_count": null,
   "metadata": {},
   "outputs": [],
   "source": [
    "#!mamba install pandas==1.3.3 -y\n",
    "#!mamba install requests==2.26.0 -y"
   ]
  },
  {
   "cell_type": "markdown",
   "metadata": {},
   "source": [
    "## Imports\n",
    "\n",
    "Import any additional libraries you may need here.\n"
   ]
  },
  {
   "cell_type": "code",
   "execution_count": 1,
   "metadata": {},
   "outputs": [],
   "source": [
    "import requests\n",
    "import pandas as pd\n",
    "import json"
   ]
  },
  {
   "cell_type": "markdown",
   "metadata": {},
   "source": [
    "## Extract Data Using an API\n"
   ]
  },
  {
   "cell_type": "markdown",
   "metadata": {},
   "source": [
    "Using ExchangeRate-API we will extract currency exchange rate data. Use the below steps to get the access key and to get the data.\n",
    "\n",
    "1.  Open the url : [https://exchangeratesapi.io/](https://exchangeratesapi.io/?utm_medium=Exinfluencer&utm_source=Exinfluencer&utm_content=000026UJ&utm_term=10006555&utm_id=NA-SkillsNetwork-Channel-SkillsNetworkCoursesIBMDeveloperSkillsNetworkPY0221ENSkillsNetwork23455645-2022-01-01) and click on **Get Free API Key**.\n",
    "2.  Subscribe for Free plan and Sign-in with the Google Account.\n",
    "3.  Once the account is created you will be redirected to [https://apilayer.com](https://apilayer.com/?utm_medium=Exinfluencer&utm_source=Exinfluencer&utm_content=000026UJ&utm_term=10006555&utm_id=NA-SkillsNetwork-Channel-SkillsNetworkCoursesIBMDeveloperSkillsNetworkPY0221ENSkillsNetwork23455645-2022-01-01) website.\n",
    "4.  Now, click on the **user icon** and click **Account** as shown below:\n",
    "\n",
    "<img src=\"https://cf-courses-data.s3.us.cloud-object-storage.appdomain.cloud/IBMDeveloperSkillsNetwork-PY0221EN-SkillsNetwork/labs/module%206/Final%20Assignment/Images/account.png\"/>\n",
    "\n",
    "3.  Scroll down and you will get the API Key section. Copy the API key and use in the url in Question 1.\n"
   ]
  },
  {
   "cell_type": "markdown",
   "metadata": {},
   "source": [
    "### Call the API\n",
    "\n",
    "<b> Question 1</b> Using the `requests` library call the endpoint given above and save the text, remember the first few characters of the output:\n"
   ]
  },
  {
   "cell_type": "code",
   "execution_count": 2,
   "metadata": {},
   "outputs": [],
   "source": [
    "# Write your code here\n",
    "url = \"https://api.apilayer.com/exchangerates_data/latest?base=EUR&apikey=VhKcEQy7uIbd9wDuJGKhKg5wuZyR1Pir\"\n",
    "r = requests.get(url).text"
   ]
  },
  {
   "cell_type": "code",
   "execution_count": 3,
   "metadata": {},
   "outputs": [],
   "source": [
    "results = json.loads(r)"
   ]
  },
  {
   "cell_type": "code",
   "execution_count": 4,
   "metadata": {},
   "outputs": [
    {
     "data": {
      "text/plain": [
       "{'AED': 3.74399,\n",
       " 'AFN': 92.019173,\n",
       " 'ALL': 116.87239,\n",
       " 'AMD': 421.705869,\n",
       " 'ANG': 1.836238,\n",
       " 'AOA': 438.64768,\n",
       " 'ARS': 131.831722,\n",
       " 'AUD': 1.483469,\n",
       " 'AWG': 1.832211,\n",
       " 'AZN': 1.720415,\n",
       " 'BAM': 1.95587,\n",
       " 'BBD': 2.057171,\n",
       " 'BDT': 96.236168,\n",
       " 'BGN': 1.955773,\n",
       " 'BHD': 0.384155,\n",
       " 'BIF': 2098.339687,\n",
       " 'BMD': 1.019311,\n",
       " 'BND': 1.420229,\n",
       " 'BOB': 7.004906,\n",
       " 'BRL': 5.575329,\n",
       " 'BSD': 1.018886,\n",
       " 'BTC': 4.4581015e-05,\n",
       " 'BTN': 81.442365,\n",
       " 'BWP': 13.013066,\n",
       " 'BYN': 2.572353,\n",
       " 'BYR': 19978.492541,\n",
       " 'BZD': 2.053771,\n",
       " 'CAD': 1.316766,\n",
       " 'CDF': 2041.17095,\n",
       " 'CHF': 0.991407,\n",
       " 'CLF': 0.034261,\n",
       " 'CLP': 945.370022,\n",
       " 'CNY': 6.897657,\n",
       " 'COP': 4439.465677,\n",
       " 'CRC': 688.250442,\n",
       " 'CUC': 1.019311,\n",
       " 'CUP': 27.011737,\n",
       " 'CVE': 110.267255,\n",
       " 'CZK': 24.49813,\n",
       " 'DJF': 181.393709,\n",
       " 'DKK': 7.444435,\n",
       " 'DOP': 55.364145,\n",
       " 'DZD': 148.715864,\n",
       " 'EGP': 19.30636,\n",
       " 'ERN': 15.289663,\n",
       " 'ETB': 53.593096,\n",
       " 'EUR': 1,\n",
       " 'FJD': 2.251695,\n",
       " 'FKP': 0.858603,\n",
       " 'GBP': 0.852225,\n",
       " 'GEL': 2.997078,\n",
       " 'GGP': 0.858603,\n",
       " 'GHS': 8.29907,\n",
       " 'GIP': 0.858603,\n",
       " 'GMD': 55.134987,\n",
       " 'GNF': 8838.580741,\n",
       " 'GTQ': 7.883436,\n",
       " 'GYD': 213.170176,\n",
       " 'HKD': 8.001029,\n",
       " 'HNL': 25.05716,\n",
       " 'HRK': 7.515178,\n",
       " 'HTG': 119.08601,\n",
       " 'HUF': 400.829708,\n",
       " 'IDR': 15334.971026,\n",
       " 'ILS': 3.522188,\n",
       " 'IMP': 0.858603,\n",
       " 'INR': 81.419089,\n",
       " 'IQD': 1487.071231,\n",
       " 'IRR': 43167.814475,\n",
       " 'ISK': 139.697051,\n",
       " 'JEP': 0.858603,\n",
       " 'JMD': 155.088607,\n",
       " 'JOD': 0.722716,\n",
       " 'JPY': 141.311138,\n",
       " 'KES': 120.860016,\n",
       " 'KGS': 81.218384,\n",
       " 'KHR': 4167.242126,\n",
       " 'KMF': 473.597326,\n",
       " 'KPW': 917.379751,\n",
       " 'KRW': 1336.285698,\n",
       " 'KWD': 0.313581,\n",
       " 'KYD': 0.849092,\n",
       " 'KZT': 491.370048,\n",
       " 'LAK': 15327.313429,\n",
       " 'LBP': 1540.601276,\n",
       " 'LKR': 369.852064,\n",
       " 'LRD': 155.450973,\n",
       " 'LSL': 16.145626,\n",
       " 'LTL': 3.00976,\n",
       " 'LVL': 0.616571,\n",
       " 'LYD': 4.971002,\n",
       " 'MAD': 10.377912,\n",
       " 'MDL': 19.670102,\n",
       " 'MGA': 4287.937684,\n",
       " 'MKD': 61.528069,\n",
       " 'MMK': 1886.448701,\n",
       " 'MNT': 3205.38603,\n",
       " 'MOP': 8.237768,\n",
       " 'MRO': 363.893796,\n",
       " 'MUR': 45.543612,\n",
       " 'MVR': 15.646142,\n",
       " 'MWK': 1046.524133,\n",
       " 'MXN': 20.926798,\n",
       " 'MYR': 4.543033,\n",
       " 'MZN': 65.062658,\n",
       " 'NAD': 16.145622,\n",
       " 'NGN': 423.424524,\n",
       " 'NIO': 36.531493,\n",
       " 'NOK': 10.167804,\n",
       " 'NPR': 130.30319,\n",
       " 'NZD': 1.645305,\n",
       " 'OMR': 0.391822,\n",
       " 'PAB': 1.018886,\n",
       " 'PEN': 3.964703,\n",
       " 'PGK': 3.636374,\n",
       " 'PHP': 57.5243,\n",
       " 'PKR': 231.030091,\n",
       " 'PLN': 4.761241,\n",
       " 'PYG': 6979.666119,\n",
       " 'QAR': 3.711323,\n",
       " 'RON': 4.939271,\n",
       " 'RSD': 117.38896,\n",
       " 'RUB': 58.024273,\n",
       " 'RWF': 1044.481359,\n",
       " 'SAR': 3.830635,\n",
       " 'SBD': 8.317545,\n",
       " 'SCR': 13.078717,\n",
       " 'SDG': 465.311209,\n",
       " 'SEK': 10.431199,\n",
       " 'SGD': 1.420374,\n",
       " 'SHP': 1.403997,\n",
       " 'SLL': 13424.323695,\n",
       " 'SOS': 595.788512,\n",
       " 'SRD': 23.167404,\n",
       " 'STD': 21097.676489,\n",
       " 'SVC': 8.914876,\n",
       " 'SYP': 2561.048497,\n",
       " 'SZL': 17.471414,\n",
       " 'THB': 37.612062,\n",
       " 'TJS': 10.392913,\n",
       " 'TMT': 3.577781,\n",
       " 'TND': 3.122656,\n",
       " 'TOP': 2.392577,\n",
       " 'TRY': 18.012338,\n",
       " 'TTD': 6.922268,\n",
       " 'TWD': 30.510523,\n",
       " 'TZS': 2377.032609,\n",
       " 'UAH': 37.446466,\n",
       " 'UGX': 3897.379698,\n",
       " 'USD': 1.019311,\n",
       " 'UYU': 42.802566,\n",
       " 'UZS': 11105.650242,\n",
       " 'VND': 23867.163411,\n",
       " 'VUV': 121.192008,\n",
       " 'WST': 2.773514,\n",
       " 'XAF': 655.970414,\n",
       " 'XAG': 0.055726,\n",
       " 'XAU': 0.000606,\n",
       " 'XCD': 2.754739,\n",
       " 'XDR': 0.774016,\n",
       " 'XOF': 655.970414,\n",
       " 'XPF': 115.334697,\n",
       " 'YER': 255.082499,\n",
       " 'ZAR': 17.505084,\n",
       " 'ZMK': 9175.01778,\n",
       " 'ZMW': 16.786379,\n",
       " 'ZWL': 328.217676}"
      ]
     },
     "execution_count": 4,
     "metadata": {},
     "output_type": "execute_result"
    }
   ],
   "source": [
    "results[\"rates\"]"
   ]
  },
  {
   "cell_type": "markdown",
   "metadata": {},
   "source": [
    "### Save as DataFrame\n",
    "\n",
    "<b> Question 2</b>  Using the data gathered turn it into a `pandas` dataframe. The dataframe should have the Currency as the index and `Rate` as their columns. Make sure to drop unnecessary columns.\n"
   ]
  },
  {
   "cell_type": "code",
   "execution_count": 5,
   "metadata": {},
   "outputs": [
    {
     "data": {
      "text/html": [
       "<div>\n",
       "<style scoped>\n",
       "    .dataframe tbody tr th:only-of-type {\n",
       "        vertical-align: middle;\n",
       "    }\n",
       "\n",
       "    .dataframe tbody tr th {\n",
       "        vertical-align: top;\n",
       "    }\n",
       "\n",
       "    .dataframe thead th {\n",
       "        text-align: right;\n",
       "    }\n",
       "</style>\n",
       "<table border=\"1\" class=\"dataframe\">\n",
       "  <thead>\n",
       "    <tr style=\"text-align: right;\">\n",
       "      <th></th>\n",
       "      <th>success</th>\n",
       "      <th>timestamp</th>\n",
       "      <th>base</th>\n",
       "      <th>date</th>\n",
       "      <th>rates</th>\n",
       "    </tr>\n",
       "  </thead>\n",
       "  <tbody>\n",
       "    <tr>\n",
       "      <th>AED</th>\n",
       "      <td>True</td>\n",
       "      <td>1658401743</td>\n",
       "      <td>EUR</td>\n",
       "      <td>2022-07-21</td>\n",
       "      <td>3.743990</td>\n",
       "    </tr>\n",
       "    <tr>\n",
       "      <th>AFN</th>\n",
       "      <td>True</td>\n",
       "      <td>1658401743</td>\n",
       "      <td>EUR</td>\n",
       "      <td>2022-07-21</td>\n",
       "      <td>92.019173</td>\n",
       "    </tr>\n",
       "    <tr>\n",
       "      <th>ALL</th>\n",
       "      <td>True</td>\n",
       "      <td>1658401743</td>\n",
       "      <td>EUR</td>\n",
       "      <td>2022-07-21</td>\n",
       "      <td>116.872390</td>\n",
       "    </tr>\n",
       "    <tr>\n",
       "      <th>AMD</th>\n",
       "      <td>True</td>\n",
       "      <td>1658401743</td>\n",
       "      <td>EUR</td>\n",
       "      <td>2022-07-21</td>\n",
       "      <td>421.705869</td>\n",
       "    </tr>\n",
       "    <tr>\n",
       "      <th>ANG</th>\n",
       "      <td>True</td>\n",
       "      <td>1658401743</td>\n",
       "      <td>EUR</td>\n",
       "      <td>2022-07-21</td>\n",
       "      <td>1.836238</td>\n",
       "    </tr>\n",
       "    <tr>\n",
       "      <th>...</th>\n",
       "      <td>...</td>\n",
       "      <td>...</td>\n",
       "      <td>...</td>\n",
       "      <td>...</td>\n",
       "      <td>...</td>\n",
       "    </tr>\n",
       "    <tr>\n",
       "      <th>YER</th>\n",
       "      <td>True</td>\n",
       "      <td>1658401743</td>\n",
       "      <td>EUR</td>\n",
       "      <td>2022-07-21</td>\n",
       "      <td>255.082499</td>\n",
       "    </tr>\n",
       "    <tr>\n",
       "      <th>ZAR</th>\n",
       "      <td>True</td>\n",
       "      <td>1658401743</td>\n",
       "      <td>EUR</td>\n",
       "      <td>2022-07-21</td>\n",
       "      <td>17.505084</td>\n",
       "    </tr>\n",
       "    <tr>\n",
       "      <th>ZMK</th>\n",
       "      <td>True</td>\n",
       "      <td>1658401743</td>\n",
       "      <td>EUR</td>\n",
       "      <td>2022-07-21</td>\n",
       "      <td>9175.017780</td>\n",
       "    </tr>\n",
       "    <tr>\n",
       "      <th>ZMW</th>\n",
       "      <td>True</td>\n",
       "      <td>1658401743</td>\n",
       "      <td>EUR</td>\n",
       "      <td>2022-07-21</td>\n",
       "      <td>16.786379</td>\n",
       "    </tr>\n",
       "    <tr>\n",
       "      <th>ZWL</th>\n",
       "      <td>True</td>\n",
       "      <td>1658401743</td>\n",
       "      <td>EUR</td>\n",
       "      <td>2022-07-21</td>\n",
       "      <td>328.217676</td>\n",
       "    </tr>\n",
       "  </tbody>\n",
       "</table>\n",
       "<p>167 rows × 5 columns</p>\n",
       "</div>"
      ],
      "text/plain": [
       "     success   timestamp base        date        rates\n",
       "AED     True  1658401743  EUR  2022-07-21     3.743990\n",
       "AFN     True  1658401743  EUR  2022-07-21    92.019173\n",
       "ALL     True  1658401743  EUR  2022-07-21   116.872390\n",
       "AMD     True  1658401743  EUR  2022-07-21   421.705869\n",
       "ANG     True  1658401743  EUR  2022-07-21     1.836238\n",
       "..       ...         ...  ...         ...          ...\n",
       "YER     True  1658401743  EUR  2022-07-21   255.082499\n",
       "ZAR     True  1658401743  EUR  2022-07-21    17.505084\n",
       "ZMK     True  1658401743  EUR  2022-07-21  9175.017780\n",
       "ZMW     True  1658401743  EUR  2022-07-21    16.786379\n",
       "ZWL     True  1658401743  EUR  2022-07-21   328.217676\n",
       "\n",
       "[167 rows x 5 columns]"
      ]
     },
     "execution_count": 5,
     "metadata": {},
     "output_type": "execute_result"
    }
   ],
   "source": [
    "# Turn the data into a dataframe\n",
    "pd.DataFrame(results)"
   ]
  },
  {
   "cell_type": "code",
   "execution_count": 6,
   "metadata": {},
   "outputs": [
    {
     "data": {
      "text/html": [
       "<div>\n",
       "<style scoped>\n",
       "    .dataframe tbody tr th:only-of-type {\n",
       "        vertical-align: middle;\n",
       "    }\n",
       "\n",
       "    .dataframe tbody tr th {\n",
       "        vertical-align: top;\n",
       "    }\n",
       "\n",
       "    .dataframe thead th {\n",
       "        text-align: right;\n",
       "    }\n",
       "</style>\n",
       "<table border=\"1\" class=\"dataframe\">\n",
       "  <thead>\n",
       "    <tr style=\"text-align: right;\">\n",
       "      <th></th>\n",
       "      <th>success</th>\n",
       "      <th>timestamp</th>\n",
       "      <th>base</th>\n",
       "      <th>date</th>\n",
       "      <th>rates</th>\n",
       "    </tr>\n",
       "  </thead>\n",
       "  <tbody>\n",
       "    <tr>\n",
       "      <th>AED</th>\n",
       "      <td>True</td>\n",
       "      <td>1658401743</td>\n",
       "      <td>EUR</td>\n",
       "      <td>2022-07-21</td>\n",
       "      <td>3.743990</td>\n",
       "    </tr>\n",
       "    <tr>\n",
       "      <th>AFN</th>\n",
       "      <td>True</td>\n",
       "      <td>1658401743</td>\n",
       "      <td>EUR</td>\n",
       "      <td>2022-07-21</td>\n",
       "      <td>92.019173</td>\n",
       "    </tr>\n",
       "    <tr>\n",
       "      <th>ALL</th>\n",
       "      <td>True</td>\n",
       "      <td>1658401743</td>\n",
       "      <td>EUR</td>\n",
       "      <td>2022-07-21</td>\n",
       "      <td>116.872390</td>\n",
       "    </tr>\n",
       "    <tr>\n",
       "      <th>AMD</th>\n",
       "      <td>True</td>\n",
       "      <td>1658401743</td>\n",
       "      <td>EUR</td>\n",
       "      <td>2022-07-21</td>\n",
       "      <td>421.705869</td>\n",
       "    </tr>\n",
       "    <tr>\n",
       "      <th>ANG</th>\n",
       "      <td>True</td>\n",
       "      <td>1658401743</td>\n",
       "      <td>EUR</td>\n",
       "      <td>2022-07-21</td>\n",
       "      <td>1.836238</td>\n",
       "    </tr>\n",
       "    <tr>\n",
       "      <th>...</th>\n",
       "      <td>...</td>\n",
       "      <td>...</td>\n",
       "      <td>...</td>\n",
       "      <td>...</td>\n",
       "      <td>...</td>\n",
       "    </tr>\n",
       "    <tr>\n",
       "      <th>YER</th>\n",
       "      <td>True</td>\n",
       "      <td>1658401743</td>\n",
       "      <td>EUR</td>\n",
       "      <td>2022-07-21</td>\n",
       "      <td>255.082499</td>\n",
       "    </tr>\n",
       "    <tr>\n",
       "      <th>ZAR</th>\n",
       "      <td>True</td>\n",
       "      <td>1658401743</td>\n",
       "      <td>EUR</td>\n",
       "      <td>2022-07-21</td>\n",
       "      <td>17.505084</td>\n",
       "    </tr>\n",
       "    <tr>\n",
       "      <th>ZMK</th>\n",
       "      <td>True</td>\n",
       "      <td>1658401743</td>\n",
       "      <td>EUR</td>\n",
       "      <td>2022-07-21</td>\n",
       "      <td>9175.017780</td>\n",
       "    </tr>\n",
       "    <tr>\n",
       "      <th>ZMW</th>\n",
       "      <td>True</td>\n",
       "      <td>1658401743</td>\n",
       "      <td>EUR</td>\n",
       "      <td>2022-07-21</td>\n",
       "      <td>16.786379</td>\n",
       "    </tr>\n",
       "    <tr>\n",
       "      <th>ZWL</th>\n",
       "      <td>True</td>\n",
       "      <td>1658401743</td>\n",
       "      <td>EUR</td>\n",
       "      <td>2022-07-21</td>\n",
       "      <td>328.217676</td>\n",
       "    </tr>\n",
       "  </tbody>\n",
       "</table>\n",
       "<p>167 rows × 5 columns</p>\n",
       "</div>"
      ],
      "text/plain": [
       "     success   timestamp base        date        rates\n",
       "AED     True  1658401743  EUR  2022-07-21     3.743990\n",
       "AFN     True  1658401743  EUR  2022-07-21    92.019173\n",
       "ALL     True  1658401743  EUR  2022-07-21   116.872390\n",
       "AMD     True  1658401743  EUR  2022-07-21   421.705869\n",
       "ANG     True  1658401743  EUR  2022-07-21     1.836238\n",
       "..       ...         ...  ...         ...          ...\n",
       "YER     True  1658401743  EUR  2022-07-21   255.082499\n",
       "ZAR     True  1658401743  EUR  2022-07-21    17.505084\n",
       "ZMK     True  1658401743  EUR  2022-07-21  9175.017780\n",
       "ZMW     True  1658401743  EUR  2022-07-21    16.786379\n",
       "ZWL     True  1658401743  EUR  2022-07-21   328.217676\n",
       "\n",
       "[167 rows x 5 columns]"
      ]
     },
     "execution_count": 6,
     "metadata": {},
     "output_type": "execute_result"
    }
   ],
   "source": [
    "# Drop unnescessary columns\n",
    "df = pd.DataFrame(results)\n",
    "df.drop([\"success\",\"timestamp\",\"base\",\"date\"], axis=\"columns\")\n",
    "df"
   ]
  },
  {
   "cell_type": "markdown",
   "metadata": {},
   "source": [
    "### Load the Data\n",
    "\n",
    "Using the dataframe save it as a CSV names `exchange_rates_1.csv`.\n"
   ]
  },
  {
   "cell_type": "code",
   "execution_count": 7,
   "metadata": {},
   "outputs": [],
   "source": [
    "# Save the Dataframe\n",
    "df.to_csv('exchange_rates_1.csv')"
   ]
  },
  {
   "cell_type": "markdown",
   "metadata": {},
   "source": [
    "Your CSV should be in this format with more currencies\n",
    "\n",
    "|     | Rates      |\n",
    "| --- | ---------- |\n",
    "| AED | 4.398618   |\n",
    "| AFN | 92.917693  |\n",
    "| ALL | 123.099093 |\n",
    "| AMD | 621.935674 |\n",
    "| ANG | 2.149648   |\n"
   ]
  },
  {
   "cell_type": "markdown",
   "metadata": {},
   "source": [
    "## Authors\n"
   ]
  },
  {
   "cell_type": "markdown",
   "metadata": {},
   "source": [
    "Ramesh Sannareddy, Joseph Santarcangelo and Azim Hirjani\n"
   ]
  },
  {
   "cell_type": "markdown",
   "metadata": {},
   "source": [
    "### Other Contributors\n"
   ]
  },
  {
   "cell_type": "markdown",
   "metadata": {},
   "source": [
    "Rav Ahuja\n"
   ]
  },
  {
   "cell_type": "markdown",
   "metadata": {},
   "source": [
    "## Change Log\n"
   ]
  },
  {
   "cell_type": "markdown",
   "metadata": {},
   "source": [
    "| Date (YYYY-MM-DD) | Version | Changed By        | Change Description                              |\n",
    "| ----------------- | ------- | ----------------- | ----------------------------------------------- |\n",
    "| 2022-05-06        | 0.3     | Malika            | Updated instructions to get the API and the url |\n",
    "| 2021-04-15        | 0.2     | Malika            | Updated the lab from USD to EUR                 |\n",
    "| 2020-11-25        | 0.1     | Ramesh Sannareddy | Created initial version of the lab              |\n"
   ]
  },
  {
   "cell_type": "markdown",
   "metadata": {},
   "source": [
    "Copyright © 2020 IBM Corporation. This notebook and its source code are released under the terms of the [MIT License](https://cognitiveclass.ai/mit-license?utm_medium=Exinfluencer&utm_source=Exinfluencer&utm_content=000026UJ&utm_term=10006555&utm_id=NA-SkillsNetwork-Channel-SkillsNetworkCoursesIBMDeveloperSkillsNetworkPY0221ENSkillsNetwork23455645-2022-01-01&cm_mmc=Email_Newsletter-\\_-Developer_Ed%2BTech-\\_-WW_WW-\\_-SkillsNetwork-Courses-IBM-DA0321EN-SkillsNetwork-21426264&cm_mmca1=000026UJ&cm_mmca2=10006555&cm_mmca3=M12345678&cvosrc=email.Newsletter.M12345678&cvo_campaign=000026UJ).\n"
   ]
  }
 ],
 "metadata": {
  "kernelspec": {
   "display_name": "Python",
   "language": "python",
   "name": "conda-env-python-py"
  },
  "language_info": {
   "codemirror_mode": {
    "name": "ipython",
    "version": 3
   },
   "file_extension": ".py",
   "mimetype": "text/x-python",
   "name": "python",
   "nbconvert_exporter": "python",
   "pygments_lexer": "ipython3",
   "version": "3.7.12"
  }
 },
 "nbformat": 4,
 "nbformat_minor": 4
}
